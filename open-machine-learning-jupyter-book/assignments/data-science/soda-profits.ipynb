{
 "cells": [
  {
   "cell_type": "markdown",
   "metadata": {},
   "source": [
    "# Soda profits\n",
    "\n",
    "The <a href=\"https://raw.githubusercontent.com/open-academy/machine-learning/main/open-machine-learning-jupyter-book/assets/data/coca_cola_co.sqlite\">Coca-Cola Co spreadsheet</a><cite>[1]</cite> is missing some calculations. \n"
   ]
  },
  {
   "cell_type": "markdown",
   "metadata": {},
   "source": [
    "## Loading data"
   ]
  },
  {
   "cell_type": "code",
   "execution_count": null,
   "metadata": {},
   "outputs": [],
   "source": [
    "# install the necessary dependencies\n",
    "import sys\n",
    "!{sys.executable} -m pip install --quiet ipython-sql\n",
    "\n",
    "%load_ext sql"
   ]
  },
  {
   "cell_type": "code",
   "execution_count": null,
   "metadata": {},
   "outputs": [],
   "source": [
    "# download data file\n",
    "!curl https://raw.githubusercontent.com/open-academy/machine-learning/main/open-machine-learning-jupyter-book/assets/data/coca_cola_co.sqlite -o ./coca_cola_co.sqlite\n",
    "\n",
    "# loading from disk\n",
    "%sql sqlite:///coca_cola_co.sqlite\n",
    "\n",
    "# clear tmp data file\n",
    "!rm -rf coca_cola_co.sqlite\n"
   ]
  },
  {
   "cell_type": "markdown",
   "metadata": {},
   "source": [
    "## Assignment\n",
    "\n",
    "Create queries to return the following information:"
   ]
  },
  {
   "cell_type": "markdown",
   "metadata": {},
   "source": [
    "1. Calculate the Gross profits of FY '15, '16, '17, and '18.\n",
    "    - Gross Profit = Net Operating revenues - Cost of goods sold.\n"
   ]
  },
  {
   "cell_type": "code",
   "execution_count": null,
   "metadata": {},
   "outputs": [],
   "source": [
    "%%sql\n",
    "\n",
    "SELECT year, \"Net Operating Revenues\" ____ \"Cost of Goods Sold\" ______ \"Gross Profit\"\n",
    "FROM \"coca-cola-co\"\n",
    "WHERE ______ IN ('15', '16', '17', '18');"
   ]
  },
  {
   "cell_type": "markdown",
   "metadata": {},
   "source": [
    "2. Calculate the average of all the gross profits. Try to do this with a function.\n",
    "    - Average = Sum of gross profits divided by the number of fiscal years (10).\n",
    "    - Documentation of the [AVERAGE function](https://support.microsoft.com/en-us/office/average-function-047bac88-d466-426c-a32b-8f33eb960cf6).\n"
   ]
  },
  {
   "cell_type": "code",
   "execution_count": null,
   "metadata": {},
   "outputs": [],
   "source": [
    "%%sql\n",
    "\n",
    "SELECT ____(\"Gross Profit\") AS \"Average Gross Profit\"\n",
    "______ (\n",
    "    SELECT ____ - ____ AS \"Gross Profit\"\n",
    "    FROM \"coca-cola-co\"\n",
    ") AS \"All Gross Profits\";"
   ]
  },
  {
   "cell_type": "markdown",
   "metadata": {},
   "source": [
    "## Acknowledgments\n",
    "\n",
    "Thanks to Microsoft for creating the open-source course [Data Science for Beginners](https://github.com/microsoft/Data-Science-For-Beginners) and the data author [Jasmine Greenaway](https://github.com/paladique). They inspires the majority of the content in this chapter."
   ]
  },
  {
   "cell_type": "markdown",
   "metadata": {},
   "source": [
    "## Bibliography\n",
    "\n",
    "[1]. CocaCola excel. (n.d.). Retrieved 29 May 2023, from https://www.kaggle.com/datasets/yiyiwang0826/cocacola-excel"
   ]
  }
 ],
 "metadata": {
  "kernelspec": {
   "display_name": "Python 3 (ipykernel)",
   "language": "python",
   "name": "python3"
  },
  "language_info": {
   "codemirror_mode": {
    "name": "ipython",
    "version": 3
   },
   "file_extension": ".py",
   "mimetype": "text/x-python",
   "name": "python",
   "nbconvert_exporter": "python",
   "pygments_lexer": "ipython3",
   "version": "3.9.5"
  }
 },
 "nbformat": 4,
 "nbformat_minor": 4
}
